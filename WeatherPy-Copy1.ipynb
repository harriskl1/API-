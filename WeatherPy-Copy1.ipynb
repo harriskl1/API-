{
 "cells": [
  {
   "cell_type": "code",
   "execution_count": 1,
   "metadata": {
    "scrolled": true
   },
   "outputs": [
    {
     "name": "stdout",
     "output_type": "stream",
     "text": [
      "Requirement already satisfied: citipy in /anaconda3/lib/python3.6/site-packages (0.0.5)\n",
      "Requirement already satisfied: kdtree>=0.12 in /anaconda3/lib/python3.6/site-packages (from citipy) (0.16)\n",
      "\u001b[31mdistributed 1.21.8 requires msgpack, which is not installed.\u001b[0m\n"
     ]
    }
   ],
   "source": [
    "!pip install citipy\n",
    "\n",
    "# Dependencies and Setup\n",
    "import matplotlib.pyplot as plt\n",
    "import pandas as pd\n",
    "import numpy as np\n",
    "import requests\n",
    "import time\n",
    "\n",
    "# Import API key\n",
    "import api_keys\n",
    "\n",
    "# Incorporated citipy to determine city based on latitude and longitude\n",
    "from citipy import citipy\n",
    "\n",
    "# Output File (CSV)\n",
    "output_data_file = \"output_data/cities.csv\"\n",
    "\n",
    "# Range of latitudes and longitudes\n",
    "lat_range = (-90, 90)\n",
    "lng_range = (-180, 180)"
   ]
  },
  {
   "cell_type": "markdown",
   "metadata": {},
   "source": [
    "## Generate Cities List"
   ]
  },
  {
   "cell_type": "markdown",
   "metadata": {},
   "source": [
    "## Perform API Calls"
   ]
  },
  {
   "cell_type": "code",
   "execution_count": 2,
   "metadata": {
    "scrolled": true
   },
   "outputs": [
    {
     "ename": "NameError",
     "evalue": "name 'City_DF' is not defined",
     "output_type": "error",
     "traceback": [
      "\u001b[0;31m---------------------------------------------------------------------------\u001b[0m",
      "\u001b[0;31mNameError\u001b[0m                                 Traceback (most recent call last)",
      "\u001b[0;32m<ipython-input-2-7bcf4b761e77>\u001b[0m in \u001b[0;36m<module>\u001b[0;34m()\u001b[0m\n\u001b[1;32m     14\u001b[0m \u001b[0mCity\u001b[0m \u001b[0;34m=\u001b[0m \u001b[0;34m[\u001b[0m\u001b[0;34m]\u001b[0m\u001b[0;34m\u001b[0m\u001b[0m\n\u001b[1;32m     15\u001b[0m \u001b[0mCount\u001b[0m \u001b[0;34m=\u001b[0m \u001b[0;36m1\u001b[0m\u001b[0;34m\u001b[0m\u001b[0m\n\u001b[0;32m---> 16\u001b[0;31m \u001b[0mNumber_Cities\u001b[0m \u001b[0;34m=\u001b[0m \u001b[0mlen\u001b[0m\u001b[0;34m(\u001b[0m\u001b[0mCity_DF\u001b[0m\u001b[0;34m)\u001b[0m\u001b[0;34m\u001b[0m\u001b[0m\n\u001b[0m\u001b[1;32m     17\u001b[0m \u001b[0;32mfor\u001b[0m \u001b[0mcity\u001b[0m \u001b[0;32min\u001b[0m \u001b[0mCity_DF\u001b[0m\u001b[0;34m[\u001b[0m\u001b[0;34m'Cities'\u001b[0m\u001b[0;34m]\u001b[0m\u001b[0;34m:\u001b[0m\u001b[0;34m\u001b[0m\u001b[0m\n\u001b[1;32m     18\u001b[0m \u001b[0;34m\u001b[0m\u001b[0m\n",
      "\u001b[0;31mNameError\u001b[0m: name 'City_DF' is not defined"
     ]
    }
   ],
   "source": [
    "# List for holding lat_lngs and cities\n",
    "lat_lngs = []\n",
    "cities = []\n",
    "\n",
    "Country = []\n",
    "Weather_Description = []\n",
    "Longitude = []\n",
    "Latitude = []\n",
    "Clouds = []\n",
    "Date = []\n",
    "Humidity = []\n",
    "Max_temp = []\n",
    "Wind_Speed = []  \n",
    "City = []\n",
    "Count = 1\n",
    "Number_Cities = len(City_DF)\n",
    "for city in City_DF['Cities']:\n",
    "    \n",
    "    Url_blah = \"https://api.openweathermap.org/data/2.5/weather?q=\"+city+\"&units=Imperial&APPID=\"+api_key\n",
    "    \n",
    "    print(f'city {Count} of {Number_Cities}')\n",
    "    \n",
    "    print(f' extracting {Url_blah}')\n",
    "    \n",
    "    Count = Count + 1\n",
    "    \n",
    "    print('-------------------')\n",
    "    \n",
    "    try:\n",
    "        response=requests.get(Url_blah).json()\n",
    "        (Country.append(response['sys']['country']))\n",
    "        (Weather_Description.append(response['weather'][0]['description']))\n",
    "        (Longitude.append(response['coord']['lon']))\n",
    "        (Latitude.append(response['coord']['lat']))\n",
    "        (Clouds.append(response['clouds']['all']))\n",
    "        (Date.append(response['dt']))\n",
    "        (Humidity.append(response['main']['humidity']))\n",
    "        (Max_temp.append(response['main']['temp_max']))\n",
    "        (Wind_Speed.append(response['wind']['speed']))\n",
    "        (City.append(response['name']))\n",
    "    #print(' exctracted data')\n",
    "    except: \n",
    "        print('City Not Found')\n",
    "print('extracted all data')\n",
    "\n",
    "# Create a set of random lat and lng combinations\n",
    "lats = np.random.uniform(low=-90.000, high=90.000, size=1500)\n",
    "lngs = np.random.uniform(low=-180.000, high=180.000, size=1500)\n",
    "lat_lngs = zip(lats, lngs)\n",
    "\n",
    "# Identify nearest city for each lat, lng combination\n",
    "for lat_lng in lat_lngs:\n",
    "    city = citipy.nearest_city(lat_lng[0], lat_lng[1]).city_name\n",
    "    \n",
    "    # If the city is unique, then add it to a our cities list\n",
    "    if city not in cities:\n",
    "        cities.append(city)\n",
    "\n",
    "# Print the city count to confirm sufficient count\n",
    "len(cities)"
   ]
  },
  {
   "cell_type": "code",
   "execution_count": null,
   "metadata": {},
   "outputs": [],
   "source": [
    "# Define your own API key\n",
    "api_key = api_keys.api_key\n",
    "\n",
    "# Start URL for Weather Map API Call. units=Imperial. and ADD this part: &q=\n",
    "url = \"http://api.openweathermap.org/data/2.5/weather?units=Imperial&APPID=\" + api_key + \"&q=\"\n",
    "\n",
    "#set up the lists and variables to hold info.\n",
    "examples = [\"London\", \"Paris\"] #this would be the cities list from hw\n",
    "latitude = [] #adding variables to hold the request's info on latitude\n",
    "temperature = [] #adding variable to hold the request's info on temp\n",
    "\n",
    "# Loop through the list of cities and perform a request for data on each\n",
    "for example in examples:  #for city in cities:\n",
    "   response = requests.get(url + example).json()\n",
    "   latitude.append(response)\n",
    "   temperature.append(response)\n",
    "   time.sleep(2)\n",
    "   print(f\"The latitude of {example} is {response['coord']['lat']} and the temperature is {response['main']['temp']}\")\n",
    "\n",
    "# Set timer to run every minute\n",
    "    time.sleep(60)"
   ]
  },
  {
   "cell_type": "code",
   "execution_count": null,
   "metadata": {},
   "outputs": [],
   "source": [
    "# OpenWeatherMap API Key\n",
    "api_key = api_keys.api_key\n",
    "\n",
    "# Starting URL for Weather Map API Call\n",
    "url = \"http://api.openweathermap.org/data/2.5/weather?units=Imperial&APPID=\" + api_key \n",
    "\n"
   ]
  },
  {
   "cell_type": "code",
   "execution_count": null,
   "metadata": {},
   "outputs": [],
   "source": []
  }
 ],
 "metadata": {
  "anaconda-cloud": {},
  "kernelspec": {
   "display_name": "Python 3",
   "language": "python",
   "name": "python3"
  },
  "language_info": {
   "codemirror_mode": {
    "name": "ipython",
    "version": 3
   },
   "file_extension": ".py",
   "mimetype": "text/x-python",
   "name": "python",
   "nbconvert_exporter": "python",
   "pygments_lexer": "ipython3",
   "version": "3.6.5"
  }
 },
 "nbformat": 4,
 "nbformat_minor": 1
}
